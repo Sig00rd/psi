{
 "cells": [
  {
   "cell_type": "code",
   "execution_count": 169,
   "metadata": {},
   "outputs": [
    {
     "name": "stdout",
     "output_type": "stream",
     "text": [
      "Requirement already satisfied: tpot in /opt/conda/lib/python3.7/site-packages (0.10.1)\n",
      "Requirement already satisfied: scipy>=0.19.0 in /opt/conda/lib/python3.7/site-packages (from tpot) (1.2.1)\n",
      "Requirement already satisfied: numpy>=1.12.1 in /opt/conda/lib/python3.7/site-packages (from tpot) (1.15.4)\n",
      "Requirement already satisfied: update-checker>=0.16 in /opt/conda/lib/python3.7/site-packages (from tpot) (0.16)\n",
      "Requirement already satisfied: pandas>=0.20.2 in /opt/conda/lib/python3.7/site-packages (from tpot) (0.24.2)\n",
      "Requirement already satisfied: tqdm>=4.26.0 in /opt/conda/lib/python3.7/site-packages (from tpot) (4.32.2)\n",
      "Requirement already satisfied: stopit>=1.1.1 in /opt/conda/lib/python3.7/site-packages (from tpot) (1.1.2)\n",
      "Requirement already satisfied: deap>=1.0 in /opt/conda/lib/python3.7/site-packages (from tpot) (1.3.0)\n",
      "Requirement already satisfied: scikit-learn>=0.18.1 in /opt/conda/lib/python3.7/site-packages (from tpot) (0.20.3)\n",
      "Requirement already satisfied: requests>=2.3.0 in /opt/conda/lib/python3.7/site-packages (from update-checker>=0.16->tpot) (2.21.0)\n",
      "Requirement already satisfied: python-dateutil>=2.5.0 in /opt/conda/lib/python3.7/site-packages (from pandas>=0.20.2->tpot) (2.8.0)\n",
      "Requirement already satisfied: pytz>=2011k in /opt/conda/lib/python3.7/site-packages (from pandas>=0.20.2->tpot) (2019.1)\n",
      "Requirement already satisfied: idna<2.9,>=2.5 in /opt/conda/lib/python3.7/site-packages (from requests>=2.3.0->update-checker>=0.16->tpot) (2.8)\n",
      "Requirement already satisfied: urllib3<1.25,>=1.21.1 in /opt/conda/lib/python3.7/site-packages (from requests>=2.3.0->update-checker>=0.16->tpot) (1.24.2)\n",
      "Requirement already satisfied: chardet<3.1.0,>=3.0.2 in /opt/conda/lib/python3.7/site-packages (from requests>=2.3.0->update-checker>=0.16->tpot) (3.0.4)\n",
      "Requirement already satisfied: certifi>=2017.4.17 in /opt/conda/lib/python3.7/site-packages (from requests>=2.3.0->update-checker>=0.16->tpot) (2019.3.9)\n",
      "Requirement already satisfied: six>=1.5 in /opt/conda/lib/python3.7/site-packages (from python-dateutil>=2.5.0->pandas>=0.20.2->tpot) (1.12.0)\n"
     ]
    }
   ],
   "source": [
    "#!pip install dask[dataframe]\n",
    "!pip install tpot"
   ]
  },
  {
   "cell_type": "markdown",
   "metadata": {},
   "source": [
    "<b>Data loading</b>"
   ]
  },
  {
   "cell_type": "code",
   "execution_count": 170,
   "metadata": {},
   "outputs": [],
   "source": [
    "import numpy as np\n",
    "import pandas as pd\n",
    "import dask.dataframe as dd\n",
    "import glob\n",
    "import seaborn as sns\n",
    "from matplotlib import pyplot as plt\n",
    "from scipy import stats"
   ]
  },
  {
   "cell_type": "markdown",
   "metadata": {},
   "source": [
    "<b>Loading experiment data</b>"
   ]
  },
  {
   "cell_type": "code",
   "execution_count": 527,
   "metadata": {},
   "outputs": [],
   "source": [
    "path = 'data/procedura'\n",
    "all_files = glob.glob(path + '/*[0-9].txt')\n",
    "seed=42\n",
    "dataframes = []\n",
    "\n",
    "len(all_files)\n",
    "for path in all_files:\n",
    "    with open(path) as f:\n",
    "        dataframes.append(pd.read_csv(f, sep = '\\t', names = [\n",
    "            'PersonID',\n",
    "            'StimulusID',\n",
    "            'Consistency',\n",
    "            'Condition',\n",
    "            'Sound',\n",
    "            'Image',\n",
    "            'Widget',\n",
    "            'Answer',\n",
    "            'TimeToAnswer',\n",
    "            'StimulusTimestamp'\n",
    "        ],usecols = [\n",
    "            'Sound',\n",
    "            'Image',\n",
    "            'Answer'\n",
    "        ]))\n",
    "        \n",
    "df = pd.concat(dataframes)"
   ]
  },
  {
   "cell_type": "markdown",
   "metadata": {},
   "source": [
    "<b>Preprocessing experiment data</b>"
   ]
  },
  {
   "cell_type": "code",
   "execution_count": 528,
   "metadata": {
    "scrolled": false
   },
   "outputs": [
    {
     "data": {
      "text/html": [
       "<div>\n",
       "<style scoped>\n",
       "    .dataframe tbody tr th:only-of-type {\n",
       "        vertical-align: middle;\n",
       "    }\n",
       "\n",
       "    .dataframe tbody tr th {\n",
       "        vertical-align: top;\n",
       "    }\n",
       "\n",
       "    .dataframe thead th {\n",
       "        text-align: right;\n",
       "    }\n",
       "</style>\n",
       "<table border=\"1\" class=\"dataframe\">\n",
       "  <thead>\n",
       "    <tr style=\"text-align: right;\">\n",
       "      <th></th>\n",
       "      <th>Sound</th>\n",
       "      <th>Image</th>\n",
       "      <th>ResearchValence</th>\n",
       "      <th>ResearchArousal</th>\n",
       "      <th>EroticImage</th>\n",
       "      <th>EroticSound</th>\n",
       "    </tr>\n",
       "  </thead>\n",
       "  <tbody>\n",
       "    <tr>\n",
       "      <th>0</th>\n",
       "      <td>170</td>\n",
       "      <td>1112</td>\n",
       "      <td>5.002399</td>\n",
       "      <td>0.449335</td>\n",
       "      <td>0</td>\n",
       "      <td>0</td>\n",
       "    </tr>\n",
       "    <tr>\n",
       "      <th>1</th>\n",
       "      <td>373</td>\n",
       "      <td>9402</td>\n",
       "      <td>0.521854</td>\n",
       "      <td>4.978546</td>\n",
       "      <td>0</td>\n",
       "      <td>0</td>\n",
       "    </tr>\n",
       "    <tr>\n",
       "      <th>2</th>\n",
       "      <td>353</td>\n",
       "      <td>4660</td>\n",
       "      <td>8.317368</td>\n",
       "      <td>1.667026</td>\n",
       "      <td>1</td>\n",
       "      <td>0</td>\n",
       "    </tr>\n",
       "    <tr>\n",
       "      <th>3</th>\n",
       "      <td>277</td>\n",
       "      <td>3053</td>\n",
       "      <td>1.877277</td>\n",
       "      <td>8.310184</td>\n",
       "      <td>0</td>\n",
       "      <td>0</td>\n",
       "    </tr>\n",
       "    <tr>\n",
       "      <th>4</th>\n",
       "      <td>360</td>\n",
       "      <td>4656</td>\n",
       "      <td>9.509720</td>\n",
       "      <td>5.055283</td>\n",
       "      <td>1</td>\n",
       "      <td>0</td>\n",
       "    </tr>\n",
       "  </tbody>\n",
       "</table>\n",
       "</div>"
      ],
      "text/plain": [
       "  Sound Image  ResearchValence  ResearchArousal  EroticImage  EroticSound\n",
       "0   170  1112         5.002399         0.449335            0            0\n",
       "1   373  9402         0.521854         4.978546            0            0\n",
       "2   353  4660         8.317368         1.667026            1            0\n",
       "3   277  3053         1.877277         8.310184            0            0\n",
       "4   360  4656         9.509720         5.055283            1            0"
      ]
     },
     "execution_count": 528,
     "metadata": {},
     "output_type": "execute_result"
    }
   ],
   "source": [
    "def extractValence(answer):\n",
    "    return (float(answer.split(',')[0][1:])+1)*5\n",
    "    \n",
    "valenceCol = [extractValence(x) for x in df['Answer']]\n",
    "\n",
    "def extractArousal(answer):\n",
    "    return (float(answer.split(',')[1][:-1])+1)*5\n",
    "\n",
    "arousalCol = [extractArousal(x) for x in df['Answer']]\n",
    "\n",
    "def isEroticImage(imageId):\n",
    "    if imageId >= 4001 and imageId <= 5000:\n",
    "        return 1\n",
    "    else:\n",
    "        return 0\n",
    "    \n",
    "eroticImageCol = [isEroticImage(x) for x in df['Image']]\n",
    "\n",
    "def isEroticSound(soundId):\n",
    "    if soundId >= 200 and soundId <= 216:\n",
    "        return 1\n",
    "    else:\n",
    "        return 0\n",
    "    \n",
    "eroticSoundCol = [isEroticSound(x) for x in df['Sound']]\n",
    "\n",
    "#https://stackoverflow.com/questions/12555323/adding-new-column-to-existing-dataframe-in-python-pandas\n",
    "#https://stackoverflow.com/questions/16476924/how-to-iterate-over-rows-in-a-dataframe-in-pandas\n",
    "df = df.assign(ResearchValence=valenceCol)\n",
    "df = df.assign(ResearchArousal=arousalCol)\n",
    "df = df.assign(EroticImage=eroticImageCol)\n",
    "df = df.assign(EroticSound=eroticSoundCol)\n",
    "\n",
    "del df['Answer']\n",
    "df.head()"
   ]
  },
  {
   "cell_type": "markdown",
   "metadata": {},
   "source": [
    "<b>Load images and sounds<b>"
   ]
  },
  {
   "cell_type": "code",
   "execution_count": 529,
   "metadata": {},
   "outputs": [
    {
     "name": "stdout",
     "output_type": "stream",
     "text": [
      "ImageValenceMean min: 1.31\n",
      "ImageValenceMean max: 8.34\n",
      "ImageArousalMean min: 1.72\n",
      "ImageArousalMean max: 7.35\n"
     ]
    },
    {
     "data": {
      "text/html": [
       "<div>\n",
       "<style scoped>\n",
       "    .dataframe tbody tr th:only-of-type {\n",
       "        vertical-align: middle;\n",
       "    }\n",
       "\n",
       "    .dataframe tbody tr th {\n",
       "        vertical-align: top;\n",
       "    }\n",
       "\n",
       "    .dataframe thead th {\n",
       "        text-align: right;\n",
       "    }\n",
       "</style>\n",
       "<table border=\"1\" class=\"dataframe\">\n",
       "  <thead>\n",
       "    <tr style=\"text-align: right;\">\n",
       "      <th></th>\n",
       "      <th>IAPS</th>\n",
       "      <th>ValenceMean</th>\n",
       "      <th>ArousalMean</th>\n",
       "    </tr>\n",
       "  </thead>\n",
       "  <tbody>\n",
       "    <tr>\n",
       "      <th>0</th>\n",
       "      <td>1019</td>\n",
       "      <td>3.95</td>\n",
       "      <td>5.77</td>\n",
       "    </tr>\n",
       "    <tr>\n",
       "      <th>1</th>\n",
       "      <td>1022</td>\n",
       "      <td>4.26</td>\n",
       "      <td>6.02</td>\n",
       "    </tr>\n",
       "    <tr>\n",
       "      <th>2</th>\n",
       "      <td>1026</td>\n",
       "      <td>4.09</td>\n",
       "      <td>5.61</td>\n",
       "    </tr>\n",
       "    <tr>\n",
       "      <th>3</th>\n",
       "      <td>1030</td>\n",
       "      <td>4.30</td>\n",
       "      <td>5.46</td>\n",
       "    </tr>\n",
       "    <tr>\n",
       "      <th>4</th>\n",
       "      <td>1033</td>\n",
       "      <td>3.87</td>\n",
       "      <td>6.13</td>\n",
       "    </tr>\n",
       "  </tbody>\n",
       "</table>\n",
       "</div>"
      ],
      "text/plain": [
       "   IAPS  ValenceMean  ArousalMean\n",
       "0  1019         3.95         5.77\n",
       "1  1022         4.26         6.02\n",
       "2  1026         4.09         5.61\n",
       "3  1030         4.30         5.46\n",
       "4  1033         3.87         6.13"
      ]
     },
     "execution_count": 529,
     "metadata": {},
     "output_type": "execute_result"
    }
   ],
   "source": [
    "dfImages = pd.read_csv('./data/IAPS.csv', # w pliku wszystke przecinki zamienione na kropki\n",
    "                                  sep=';', \n",
    "                                  decimal=\",\",\n",
    "                                  usecols=['IAPS', 'ValenceMean', 'ArousalMean'])\n",
    "dfImages.IAPS = dfImages.IAPS.astype(int)\n",
    "print('ImageValenceMean min: ' + str(dfImages['ValenceMean'].min()))\n",
    "print('ImageValenceMean max: ' + str(dfImages['ValenceMean'].max()))\n",
    "print('ImageArousalMean min: ' + str(dfImages['ArousalMean'].min()))\n",
    "print('ImageArousalMean max: ' + str(dfImages['ArousalMean'].max()))\n",
    "dfImages.head()"
   ]
  },
  {
   "cell_type": "code",
   "execution_count": 534,
   "metadata": {
    "scrolled": true
   },
   "outputs": [
    {
     "name": "stdout",
     "output_type": "stream",
     "text": [
      "SoundValenceMean min: 1.57\n",
      "SoundValenceMean max: 7.9\n",
      "SoundArousalMean min: 2.88\n",
      "SoundArousalMean max: 8.16\n"
     ]
    },
    {
     "data": {
      "text/html": [
       "<div>\n",
       "<style scoped>\n",
       "    .dataframe tbody tr th:only-of-type {\n",
       "        vertical-align: middle;\n",
       "    }\n",
       "\n",
       "    .dataframe tbody tr th {\n",
       "        vertical-align: top;\n",
       "    }\n",
       "\n",
       "    .dataframe thead th {\n",
       "        text-align: right;\n",
       "    }\n",
       "</style>\n",
       "<table border=\"1\" class=\"dataframe\">\n",
       "  <thead>\n",
       "    <tr style=\"text-align: right;\">\n",
       "      <th></th>\n",
       "      <th>Number</th>\n",
       "      <th>ValenceMean</th>\n",
       "      <th>ArousalMean</th>\n",
       "    </tr>\n",
       "  </thead>\n",
       "  <tbody>\n",
       "    <tr>\n",
       "      <th>0</th>\n",
       "      <td>102</td>\n",
       "      <td>4.63</td>\n",
       "      <td>4.91</td>\n",
       "    </tr>\n",
       "    <tr>\n",
       "      <th>1</th>\n",
       "      <td>104</td>\n",
       "      <td>4.96</td>\n",
       "      <td>5.37</td>\n",
       "    </tr>\n",
       "    <tr>\n",
       "      <th>2</th>\n",
       "      <td>105</td>\n",
       "      <td>2.88</td>\n",
       "      <td>6.40</td>\n",
       "    </tr>\n",
       "    <tr>\n",
       "      <th>3</th>\n",
       "      <td>106</td>\n",
       "      <td>3.37</td>\n",
       "      <td>6.39</td>\n",
       "    </tr>\n",
       "    <tr>\n",
       "      <th>4</th>\n",
       "      <td>107</td>\n",
       "      <td>5.47</td>\n",
       "      <td>5.85</td>\n",
       "    </tr>\n",
       "  </tbody>\n",
       "</table>\n",
       "</div>"
      ],
      "text/plain": [
       "   Number  ValenceMean  ArousalMean\n",
       "0     102         4.63         4.91\n",
       "1     104         4.96         5.37\n",
       "2     105         2.88         6.40\n",
       "3     106         3.37         6.39\n",
       "4     107         5.47         5.85"
      ]
     },
     "execution_count": 534,
     "metadata": {},
     "output_type": "execute_result"
    }
   ],
   "source": [
    "dfSounds  = pd.read_csv('./data/IADS2.csv', \n",
    "                                  sep=';', \n",
    "                                  usecols=['Number', 'ValenceMean', 'ArousalMean'])\n",
    "\n",
    "print('SoundValenceMean min: ' + str(dfSounds['ValenceMean'].min()))\n",
    "print('SoundValenceMean max: ' + str(dfSounds['ValenceMean'].max()))\n",
    "print('SoundArousalMean min: ' + str(dfSounds['ArousalMean'].min()))\n",
    "print('SoundArousalMean max: ' + str(dfSounds['ArousalMean'].max()))\n",
    "dfSounds.head()"
   ]
  },
  {
   "cell_type": "markdown",
   "metadata": {},
   "source": [
    "<b>Creating a single dataframe</b>"
   ]
  },
  {
   "cell_type": "code",
   "execution_count": 535,
   "metadata": {},
   "outputs": [],
   "source": [
    "def extractImageValenceMean(imageId):\n",
    "    currentDf = dfImages[dfImages['IAPS']==imageId]\n",
    "    if len(currentDf) != 0:\n",
    "        return currentDf.iloc[0]['ValenceMean']\n",
    "    \n",
    "imageValenceMeanCol = [extractImageValenceMean(x) for x in df['Image']]"
   ]
  },
  {
   "cell_type": "code",
   "execution_count": 536,
   "metadata": {},
   "outputs": [],
   "source": [
    "def extractImageArousalMean(imageId):\n",
    "    currentDf = dfImages[dfImages['IAPS']==imageId]\n",
    "    if len(currentDf) != 0:\n",
    "        return currentDf.iloc[0]['ArousalMean']\n",
    "    \n",
    "imageArousalMeanCol = [extractImageArousalMean(x) for x in df['Image']]"
   ]
  },
  {
   "cell_type": "code",
   "execution_count": 537,
   "metadata": {},
   "outputs": [],
   "source": [
    "def extractSoundValenceMean(soundId):\n",
    "    currentDf = dfSounds[dfSounds['Number']==soundId]\n",
    "    if len(currentDf) != 0:\n",
    "        return currentDf.iloc[0]['ValenceMean']\n",
    "\n",
    "soundValenceMeanCol = [extractSoundValenceMean(x) for x in df['Sound']]"
   ]
  },
  {
   "cell_type": "code",
   "execution_count": 538,
   "metadata": {},
   "outputs": [],
   "source": [
    "def extractSoundArousalMean(soundId):\n",
    "    currentDf = dfSounds[dfSounds['Number']==soundId]\n",
    "    if len(currentDf) != 0:\n",
    "        return currentDf.iloc[0]['ArousalMean']\n",
    "\n",
    "soundArousalMeanCol = [extractSoundArousalMean(x) for x in df['Sound']]"
   ]
  },
  {
   "cell_type": "code",
   "execution_count": 539,
   "metadata": {},
   "outputs": [
    {
     "data": {
      "text/html": [
       "<div>\n",
       "<style scoped>\n",
       "    .dataframe tbody tr th:only-of-type {\n",
       "        vertical-align: middle;\n",
       "    }\n",
       "\n",
       "    .dataframe tbody tr th {\n",
       "        vertical-align: top;\n",
       "    }\n",
       "\n",
       "    .dataframe thead th {\n",
       "        text-align: right;\n",
       "    }\n",
       "</style>\n",
       "<table border=\"1\" class=\"dataframe\">\n",
       "  <thead>\n",
       "    <tr style=\"text-align: right;\">\n",
       "      <th></th>\n",
       "      <th>ResearchValence</th>\n",
       "      <th>ResearchArousal</th>\n",
       "      <th>EroticImage</th>\n",
       "      <th>EroticSound</th>\n",
       "      <th>ImageValenceMean</th>\n",
       "      <th>ImageArousalMean</th>\n",
       "      <th>SoundValenceMean</th>\n",
       "      <th>SoundArousalMean</th>\n",
       "    </tr>\n",
       "  </thead>\n",
       "  <tbody>\n",
       "    <tr>\n",
       "      <th>0</th>\n",
       "      <td>5.002399</td>\n",
       "      <td>0.449335</td>\n",
       "      <td>0</td>\n",
       "      <td>0</td>\n",
       "      <td>4.71</td>\n",
       "      <td>4.60</td>\n",
       "      <td>5.31</td>\n",
       "      <td>4.60</td>\n",
       "    </tr>\n",
       "    <tr>\n",
       "      <th>1</th>\n",
       "      <td>0.521854</td>\n",
       "      <td>4.978546</td>\n",
       "      <td>0</td>\n",
       "      <td>0</td>\n",
       "      <td>4.48</td>\n",
       "      <td>5.07</td>\n",
       "      <td>5.09</td>\n",
       "      <td>4.65</td>\n",
       "    </tr>\n",
       "    <tr>\n",
       "      <th>2</th>\n",
       "      <td>8.317368</td>\n",
       "      <td>1.667026</td>\n",
       "      <td>1</td>\n",
       "      <td>0</td>\n",
       "      <td>7.40</td>\n",
       "      <td>6.58</td>\n",
       "      <td>7.38</td>\n",
       "      <td>6.62</td>\n",
       "    </tr>\n",
       "    <tr>\n",
       "      <th>3</th>\n",
       "      <td>1.877277</td>\n",
       "      <td>8.310184</td>\n",
       "      <td>0</td>\n",
       "      <td>0</td>\n",
       "      <td>1.31</td>\n",
       "      <td>6.91</td>\n",
       "      <td>1.63</td>\n",
       "      <td>7.79</td>\n",
       "    </tr>\n",
       "    <tr>\n",
       "      <th>4</th>\n",
       "      <td>9.509720</td>\n",
       "      <td>5.055283</td>\n",
       "      <td>1</td>\n",
       "      <td>0</td>\n",
       "      <td>6.73</td>\n",
       "      <td>6.41</td>\n",
       "      <td>6.94</td>\n",
       "      <td>7.54</td>\n",
       "    </tr>\n",
       "  </tbody>\n",
       "</table>\n",
       "</div>"
      ],
      "text/plain": [
       "   ResearchValence  ResearchArousal  EroticImage  EroticSound  \\\n",
       "0         5.002399         0.449335            0            0   \n",
       "1         0.521854         4.978546            0            0   \n",
       "2         8.317368         1.667026            1            0   \n",
       "3         1.877277         8.310184            0            0   \n",
       "4         9.509720         5.055283            1            0   \n",
       "\n",
       "   ImageValenceMean  ImageArousalMean  SoundValenceMean  SoundArousalMean  \n",
       "0              4.71              4.60              5.31              4.60  \n",
       "1              4.48              5.07              5.09              4.65  \n",
       "2              7.40              6.58              7.38              6.62  \n",
       "3              1.31              6.91              1.63              7.79  \n",
       "4              6.73              6.41              6.94              7.54  "
      ]
     },
     "execution_count": 539,
     "metadata": {},
     "output_type": "execute_result"
    }
   ],
   "source": [
    "df = df.assign(ImageValenceMean=imageValenceMeanCol)\n",
    "df = df.assign(ImageArousalMean=imageArousalMeanCol)\n",
    "df = df.assign(SoundValenceMean=soundValenceMeanCol)\n",
    "df = df.assign(SoundArousalMean=soundArousalMeanCol)\n",
    "\n",
    "del df['Sound']\n",
    "del df['Image']\n",
    "\n",
    "df.head()"
   ]
  },
  {
   "cell_type": "raw",
   "metadata": {},
   "source": [
    "# Visualization"
   ]
  },
  {
   "cell_type": "code",
   "execution_count": 616,
   "metadata": {
    "scrolled": true
   },
   "outputs": [
    {
     "data": {
      "text/html": [
       "<div>\n",
       "<style scoped>\n",
       "    .dataframe tbody tr th:only-of-type {\n",
       "        vertical-align: middle;\n",
       "    }\n",
       "\n",
       "    .dataframe tbody tr th {\n",
       "        vertical-align: top;\n",
       "    }\n",
       "\n",
       "    .dataframe thead th {\n",
       "        text-align: right;\n",
       "    }\n",
       "</style>\n",
       "<table border=\"1\" class=\"dataframe\">\n",
       "  <thead>\n",
       "    <tr style=\"text-align: right;\">\n",
       "      <th></th>\n",
       "      <th>ResearchValence</th>\n",
       "      <th>ResearchArousal</th>\n",
       "      <th>EroticImage</th>\n",
       "      <th>EroticSound</th>\n",
       "      <th>ImageValenceMean</th>\n",
       "      <th>ImageArousalMean</th>\n",
       "      <th>SoundValenceMean</th>\n",
       "      <th>SoundArousalMean</th>\n",
       "    </tr>\n",
       "  </thead>\n",
       "  <tbody>\n",
       "    <tr>\n",
       "      <th>count</th>\n",
       "      <td>5460.000000</td>\n",
       "      <td>5460.000000</td>\n",
       "      <td>5460.000000</td>\n",
       "      <td>5460.000000</td>\n",
       "      <td>5460.000000</td>\n",
       "      <td>5460.000000</td>\n",
       "      <td>5460.000000</td>\n",
       "      <td>5460.000000</td>\n",
       "    </tr>\n",
       "    <tr>\n",
       "      <th>mean</th>\n",
       "      <td>4.454911</td>\n",
       "      <td>5.425000</td>\n",
       "      <td>0.164652</td>\n",
       "      <td>0.103846</td>\n",
       "      <td>4.517778</td>\n",
       "      <td>6.022269</td>\n",
       "      <td>4.864084</td>\n",
       "      <td>6.374817</td>\n",
       "    </tr>\n",
       "    <tr>\n",
       "      <th>std</th>\n",
       "      <td>2.538182</td>\n",
       "      <td>2.298985</td>\n",
       "      <td>0.370900</td>\n",
       "      <td>0.305089</td>\n",
       "      <td>2.201454</td>\n",
       "      <td>0.801469</td>\n",
       "      <td>1.941345</td>\n",
       "      <td>0.894736</td>\n",
       "    </tr>\n",
       "    <tr>\n",
       "      <th>min</th>\n",
       "      <td>0.000000</td>\n",
       "      <td>0.000000</td>\n",
       "      <td>0.000000</td>\n",
       "      <td>0.000000</td>\n",
       "      <td>1.310000</td>\n",
       "      <td>3.770000</td>\n",
       "      <td>1.630000</td>\n",
       "      <td>3.930000</td>\n",
       "    </tr>\n",
       "    <tr>\n",
       "      <th>25%</th>\n",
       "      <td>2.116026</td>\n",
       "      <td>4.114746</td>\n",
       "      <td>0.000000</td>\n",
       "      <td>0.000000</td>\n",
       "      <td>2.460000</td>\n",
       "      <td>5.670000</td>\n",
       "      <td>3.050000</td>\n",
       "      <td>5.890000</td>\n",
       "    </tr>\n",
       "    <tr>\n",
       "      <th>50%</th>\n",
       "      <td>4.796292</td>\n",
       "      <td>5.442619</td>\n",
       "      <td>0.000000</td>\n",
       "      <td>0.000000</td>\n",
       "      <td>4.470000</td>\n",
       "      <td>6.210000</td>\n",
       "      <td>5.090000</td>\n",
       "      <td>6.550000</td>\n",
       "    </tr>\n",
       "    <tr>\n",
       "      <th>75%</th>\n",
       "      <td>6.032511</td>\n",
       "      <td>7.081730</td>\n",
       "      <td>0.000000</td>\n",
       "      <td>0.000000</td>\n",
       "      <td>6.730000</td>\n",
       "      <td>6.580000</td>\n",
       "      <td>6.770000</td>\n",
       "      <td>6.980000</td>\n",
       "    </tr>\n",
       "    <tr>\n",
       "      <th>max</th>\n",
       "      <td>10.000000</td>\n",
       "      <td>10.000000</td>\n",
       "      <td>1.000000</td>\n",
       "      <td>1.000000</td>\n",
       "      <td>7.770000</td>\n",
       "      <td>7.350000</td>\n",
       "      <td>7.900000</td>\n",
       "      <td>7.990000</td>\n",
       "    </tr>\n",
       "  </tbody>\n",
       "</table>\n",
       "</div>"
      ],
      "text/plain": [
       "       ResearchValence  ResearchArousal  EroticImage  EroticSound  \\\n",
       "count      5460.000000      5460.000000  5460.000000  5460.000000   \n",
       "mean          4.454911         5.425000     0.164652     0.103846   \n",
       "std           2.538182         2.298985     0.370900     0.305089   \n",
       "min           0.000000         0.000000     0.000000     0.000000   \n",
       "25%           2.116026         4.114746     0.000000     0.000000   \n",
       "50%           4.796292         5.442619     0.000000     0.000000   \n",
       "75%           6.032511         7.081730     0.000000     0.000000   \n",
       "max          10.000000        10.000000     1.000000     1.000000   \n",
       "\n",
       "       ImageValenceMean  ImageArousalMean  SoundValenceMean  SoundArousalMean  \n",
       "count       5460.000000       5460.000000       5460.000000       5460.000000  \n",
       "mean           4.517778          6.022269          4.864084          6.374817  \n",
       "std            2.201454          0.801469          1.941345          0.894736  \n",
       "min            1.310000          3.770000          1.630000          3.930000  \n",
       "25%            2.460000          5.670000          3.050000          5.890000  \n",
       "50%            4.470000          6.210000          5.090000          6.550000  \n",
       "75%            6.730000          6.580000          6.770000          6.980000  \n",
       "max            7.770000          7.350000          7.900000          7.990000  "
      ]
     },
     "execution_count": 616,
     "metadata": {},
     "output_type": "execute_result"
    }
   ],
   "source": [
    "#Podsumowanie połaczonego dataframe\n",
    "df.describe(include='all')"
   ]
  },
  {
   "cell_type": "code",
   "execution_count": 635,
   "metadata": {
    "scrolled": true
   },
   "outputs": [
    {
     "data": {
      "text/plain": [
       "<matplotlib.axes._subplots.AxesSubplot at 0x7f1633049f28>"
      ]
     },
     "execution_count": 635,
     "metadata": {},
     "output_type": "execute_result"
    },
    {
     "data": {
      "image/png": "[encoded data removed]",
      "text/plain": [
       "<Figure size 1440x720 with 1 Axes>"
      ]
     },
     "metadata": {
      "needs_background": "light"
     },
     "output_type": "display_data"
    }
   ],
   "source": [
    "#Sprawdzam ile brakuje\n",
    "df.isnull().sum().to_frame(name='count').sort_values(by='count', ascending=False)['count'].plot(kind='bar', figsize=(20,10))"
   ]
  },
  {
   "cell_type": "markdown",
   "metadata": {},
   "source": [
    "Nie brakuje nic, wszystkie dane są poprawne, brak dziur"
   ]
  },
  {
   "cell_type": "code",
   "execution_count": 633,
   "metadata": {
    "scrolled": false
   },
   "outputs": [
    {
     "data": {
      "text/plain": [
       "<matplotlib.axes._subplots.AxesSubplot at 0x7f16331fbb38>"
      ]
     },
     "execution_count": 633,
     "metadata": {},
     "output_type": "execute_result"
    },
    {
     "data": {
      "image/png": "[encoded data removed]",
      "text/plain": [
       "<Figure size 1440x720 with 2 Axes>"
      ]
     },
     "metadata": {
      "needs_background": "light"
     },
     "output_type": "display_data"
    }
   ],
   "source": [
    "plt.figure(figsize=(20, 10))\n",
    "sns.heatmap(df.isnull())"
   ]
  },
  {
   "cell_type": "markdown",
   "metadata": {},
   "source": [
    "Dane pełne"
   ]
  },
  {
   "cell_type": "code",
   "execution_count": 634,
   "metadata": {},
   "outputs": [
    {
     "data": {
      "text/plain": [
       "ResearchValence     5460\n",
       "ResearchArousal     5460\n",
       "EroticImage         5460\n",
       "EroticSound         5460\n",
       "ImageValenceMean    5460\n",
       "ImageArousalMean    5460\n",
       "SoundValenceMean    5460\n",
       "SoundArousalMean    5460\n",
       "dtype: int64"
      ]
     },
     "execution_count": 634,
     "metadata": {},
     "output_type": "execute_result"
    }
   ],
   "source": [
    "df.count()"
   ]
  },
  {
   "cell_type": "code",
   "execution_count": 632,
   "metadata": {
    "scrolled": true
   },
   "outputs": [
    {
     "data": {
      "text/plain": [
       "<matplotlib.axes._subplots.AxesSubplot at 0x7f1633271550>"
      ]
     },
     "execution_count": 632,
     "metadata": {},
     "output_type": "execute_result"
    },
    {
     "data": {
      "image/png": "[encoded data removed]",
      "text/plain": [
       "<Figure size 576x576 with 2 Axes>"
      ]
     },
     "metadata": {
      "needs_background": "light"
     },
     "output_type": "display_data"
    }
   ],
   "source": [
    "corr = df.corr(method='pearson')\n",
    "plt.subplots(figsize=(8,8))\n",
    "sns.heatmap(corr, annot=True)"
   ]
  },
  {
   "cell_type": "code",
   "execution_count": 630,
   "metadata": {},
   "outputs": [
    {
     "data": {
      "text/plain": [
       "<matplotlib.axes._subplots.AxesSubplot at 0x7f16334c2c18>"
      ]
     },
     "execution_count": 630,
     "metadata": {},
     "output_type": "execute_result"
    },
    {
     "data": {
      "image/png": "[encoded data removed]",
      "text/plain": [
       "<Figure size 360x360 with 1 Axes>"
      ]
     },
     "metadata": {
      "needs_background": "light"
     },
     "output_type": "display_data"
    },
    {
     "data": {
      "image/png": "[encoded data removed]",
      "text/plain": [
       "<Figure size 360x360 with 1 Axes>"
      ]
     },
     "metadata": {
      "needs_background": "light"
     },
     "output_type": "display_data"
    },
    {
     "data": {
      "image/png": "[encoded data removed]",
      "text/plain": [
       "<Figure size 360x360 with 1 Axes>"
      ]
     },
     "metadata": {
      "needs_background": "light"
     },
     "output_type": "display_data"
    },
    {
     "data": {
      "image/png": "[encoded data removed]",
      "text/plain": [
       "<Figure size 360x360 with 1 Axes>"
      ]
     },
     "metadata": {
      "needs_background": "light"
     },
     "output_type": "display_data"
    },
    {
     "data": {
      "image/png": "[encoded data removed]",
      "text/plain": [
       "<Figure size 360x360 with 1 Axes>"
      ]
     },
     "metadata": {
      "needs_background": "light"
     },
     "output_type": "display_data"
    },
    {
     "data": {
      "image/png": "[encoded data removed]",
      "text/plain": [
       "<Figure size 360x360 with 1 Axes>"
      ]
     },
     "metadata": {
      "needs_background": "light"
     },
     "output_type": "display_data"
    }
   ],
   "source": [
    "%matplotlib inline\n",
    "plt.figure(figsize=(5, 5))\n",
    "sns.boxplot(y=df.ImageValenceMean)\n",
    "plt.figure(figsize=(5, 5))\n",
    "sns.boxplot(y=df.ImageArousalMean)\n",
    "plt.figure(figsize=(5, 5))\n",
    "sns.boxplot(y=df.SoundValenceMean)\n",
    "plt.figure(figsize=(5, 5))\n",
    "sns.boxplot(y=df.SoundArousalMean)\n",
    "plt.figure(figsize=(5, 5))\n",
    "sns.boxplot(y=df.ResearchValence)\n",
    "plt.figure(figsize=(5, 5))\n",
    "sns.boxplot(y=df.ResearchArousal)"
   ]
  },
  {
   "cell_type": "markdown",
   "metadata": {},
   "source": [
    "# <b> Valence Regression </b>"
   ]
  },
  {
   "cell_type": "code",
   "execution_count": 600,
   "metadata": {},
   "outputs": [
    {
     "name": "stdout",
     "output_type": "stream",
     "text": [
      "0.7283077164253595\n",
      "[ 0.15112436 -0.2188637   0.62382824  0.16880199  0.35496713 -0.28452674]\n"
     ]
    },
    {
     "data": {
      "image/png": "[encoded data removed]",
      "text/plain": [
       "<Figure size 1440x576 with 1 Axes>"
      ]
     },
     "metadata": {
      "needs_background": "light"
     },
     "output_type": "display_data"
    },
    {
     "name": "stdout",
     "output_type": "stream",
     "text": [
      "Mean Absolute Error: 1.6910470499752288\n",
      "Mean Squared Error: 4.580861656318024\n",
      "Root Mean Squared Error: 2.1402947592137918\n"
     ]
    }
   ],
   "source": [
    "from sklearn.model_selection import train_test_split \n",
    "from sklearn import metrics\n",
    "\n",
    "X = df[['EroticImage','EroticSound','ImageValenceMean','ImageArousalMean','SoundValenceMean','SoundArousalMean']].values\n",
    "y = df['ResearchValence'].values #to predict\n",
    "\n",
    "\n",
    "X_train, X_test, y_train, y_test = train_test_split(X, y, test_size=0.2, random_state=seed)\n",
    "\n",
    "regressor = LinearRegression()  \n",
    "regressor.fit(X_train, y_train) #training the algorithm\n",
    "\n",
    "#To retrieve the intercept:\n",
    "print(regressor.intercept_)\n",
    "#For retrieving the slope:\n",
    "print(regressor.coef_)\n",
    "\n",
    "\n",
    "y_pred = regressor.predict(X_test)\n",
    "\n",
    "df1 = pd.DataFrame({'Actual': y_test, 'Predicted': y_pred})\n",
    "df2 = df1.head(25)\n",
    "\n",
    "\n",
    "df2.plot(kind='bar',figsize=(20,8))\n",
    "plt.grid(which='major', linestyle='-', linewidth='0.5', color='green')\n",
    "plt.grid(which='minor', linestyle=':', linewidth='0.5', color='black')\n",
    "plt.show()\n",
    "\n",
    "print('Mean Absolute Error:', metrics.mean_absolute_error(y_test, y_pred))  \n",
    "print('Mean Squared Error:', metrics.mean_squared_error(y_test, y_pred))  \n",
    "print('Root Mean Squared Error:', np.sqrt(metrics.mean_squared_error(y_test, y_pred)))\n"
   ]
  },
  {
   "cell_type": "markdown",
   "metadata": {},
   "source": [
    "# <b>Arousal Regression</b>"
   ]
  },
  {
   "cell_type": "code",
   "execution_count": 598,
   "metadata": {},
   "outputs": [
    {
     "name": "stdout",
     "output_type": "stream",
     "text": [
      "0.9331148695063538\n",
      "[-0.01012209  0.30403973 -0.0336656   0.28426462  0.05209222  0.41400855]\n"
     ]
    },
    {
     "data": {
      "image/png": "[encoded data removed]",
      "text/plain": [
       "<Figure size 1440x576 with 1 Axes>"
      ]
     },
     "metadata": {
      "needs_background": "light"
     },
     "output_type": "display_data"
    },
    {
     "name": "stdout",
     "output_type": "stream",
     "text": [
      "Mean Absolute Error: 1.731966538109642\n",
      "Mean Squared Error: 4.788925584674906\n",
      "Root Mean Squared Error: 2.1883613926120398\n"
     ]
    }
   ],
   "source": [
    "X = df[['EroticImage','EroticSound','ImageValenceMean','ImageArousalMean','SoundValenceMean','SoundArousalMean']].values\n",
    "y = df['ResearchArousal'].values #to predict\n",
    "\n",
    "\n",
    "X_train, X_test, y_train, y_test = train_test_split(X, y, test_size=0.2, random_state=seed)\n",
    "\n",
    "regressor = LinearRegression()  \n",
    "regressor.fit(X_train, y_train) #training the algorithm\n",
    "\n",
    "#To retrieve the intercept:\n",
    "print(regressor.intercept_)\n",
    "#For retrieving the slope:\n",
    "print(regressor.coef_)\n",
    "\n",
    "\n",
    "y_pred = regressor.predict(X_test)\n",
    "\n",
    "df1 = pd.DataFrame({'Actual': y_test, 'Predicted': y_pred})\n",
    "df2 = df1.head(25)\n",
    "\n",
    "\n",
    "df2.plot(kind='bar',figsize=(20,8))\n",
    "plt.grid(which='major', linestyle='-', linewidth='0.5', color='green')\n",
    "plt.grid(which='minor', linestyle=':', linewidth='0.5', color='black')\n",
    "plt.show()\n",
    "\n",
    "print('Mean Absolute Error:', metrics.mean_absolute_error(y_test, y_pred))  \n",
    "print('Mean Squared Error:', metrics.mean_squared_error(y_test, y_pred))  \n",
    "print('Root Mean Squared Error:', np.sqrt(metrics.mean_squared_error(y_test, y_pred)))"
   ]
  },
  {
   "cell_type": "code",
   "execution_count": 601,
   "metadata": {},
   "outputs": [
    {
     "ename": "AttributeError",
     "evalue": "module 'sklearn.metrics' has no attribute 'neg_mean_squared_error'",
     "output_type": "error",
     "traceback": [
      "\u001b[0;31m---------------------------------------------------------------------------\u001b[0m",
      "\u001b[0;31mAttributeError\u001b[0m                            Traceback (most recent call last)",
      "\u001b[0;32m<ipython-input-601-6e86e3b96c86>\u001b[0m in \u001b[0;36m<module>\u001b[0;34m\u001b[0m\n\u001b[0;32m----> 1\u001b[0;31m \u001b[0mmetrics\u001b[0m\u001b[0;34m.\u001b[0m\u001b[0mneg_mean_squared_error\u001b[0m\u001b[0;34m(\u001b[0m\u001b[0my_test\u001b[0m\u001b[0;34m,\u001b[0m \u001b[0my_pred\u001b[0m\u001b[0;34m)\u001b[0m\u001b[0;34m\u001b[0m\u001b[0;34m\u001b[0m\u001b[0m\n\u001b[0m",
      "\u001b[0;31mAttributeError\u001b[0m: module 'sklearn.metrics' has no attribute 'neg_mean_squared_error'"
     ]
    }
   ],
   "source": []
  },
  {
   "cell_type": "code",
   "execution_count": null,
   "metadata": {},
   "outputs": [],
   "source": []
  }
 ],
 "metadata": {
  "kernelspec": {
   "display_name": "Python 3",
   "language": "python",
   "name": "python3"
  },
  "language_info": {
   "codemirror_mode": {
    "name": "ipython",
    "version": 3
   },
   "file_extension": ".py",
   "mimetype": "text/x-python",
   "name": "python",
   "nbconvert_exporter": "python",
   "pygments_lexer": "ipython3",
   "version": "3.7.3"
  }
 },
 "nbformat": 4,
 "nbformat_minor": 2
}
